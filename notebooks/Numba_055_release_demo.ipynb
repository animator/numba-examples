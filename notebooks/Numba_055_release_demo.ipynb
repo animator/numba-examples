{
 "cells": [
  {
   "cell_type": "markdown",
   "metadata": {},
   "source": [
    "# Numba 0.55.0 Release Demo\n",
    "\n",
    "This notebook contains a demonstration of new features present in the 0.55.x release of Numba. Whilst release notes are produced as part of the [CHANGE_LOG](https://github.com/numba/numba/blob/release0.55/CHANGE_LOG), there's nothing like seeing code in action!\n",
    "\n",
    "This release contains updated NumPy and Python version support, some newly supported NumPy functions, a lot of improvements to native debugging and some internal refactoring surrounding error handling. In this notebook, the new CPU target features are demonstrated. The [CUDA target](https://numba.readthedocs.io/en/stable/cuda-reference/index.html) also gained a lot of new features in 0.55.0 and [@gmarkall](https://github.com/gmarkall) has created a [demo notebook](https://mybinder.org/v2/gh/numba/numba-examples/master?filepath=notebooks%2FNumba_055_CUDA_Release_Demo.ipynb) especially for these!\n",
    "\n",
    "Key internal/support changes in this release are:\n",
    "\n",
    "- Python 3.10 is now supported.\n",
    "- NumPy support extended to include 1.21.x and is now restricted to (1.18 <= x < 1.22).\n",
    "\n",
    "Intel also kindly sponsored research and development into native debug (DWARF)\n",
    "support and handling per-function compilation flags (largely demonstrated in [0.55 debug enhancements demo](TODO)):\n",
    "\n",
    "* Line number/location tracking is much improved.\n",
    "* Numba's internal representation of containers (e.g. tuples, arrays) are now\n",
    "  encoded as structures.\n",
    "* Numba's per-function compilation flags are encoded into the ABI field of the\n",
    "  mangled name of the function such that it's possible to compile and\n",
    "  differentiate between versions of the same function with different flags set."
   ]
  },
  {
   "cell_type": "markdown",
   "metadata": {},
   "source": [
    "## Python support enhancements"
   ]
  },
  {
   "cell_type": "code",
   "execution_count": null,
   "metadata": {},
   "outputs": [],
   "source": [
    "from numba import njit\n",
    "import numba\n",
    "assert numba.version_info.short >= (0, 55)\n",
    "from numba.core import types\n",
    "import numpy as np"
   ]
  },
  {
   "cell_type": "markdown",
   "metadata": {},
   "source": [
    "Numba 0.55 gains experimental support for `isinstance` ([@guilhermeleobas](https://github.com/guilhermeleobas) and [@stuartarchibald](https://github.com/stuartarchibald)). A quick demonstration..."
   ]
  },
  {
   "cell_type": "code",
   "execution_count": null,
   "metadata": {},
   "outputs": [],
   "source": [
    "from numba import typed, float64\n",
    "from numba.core.errors import NumbaWarning\n",
    "\n",
    "# isinstance is experimental, it will display a warning stating this, for demo purposes\n",
    "# suppress this warning:\n",
    "import warnings\n",
    "warnings.filterwarnings(\"ignore\", category=NumbaWarning)\n",
    "\n",
    "def demo_isinstance(x_inst):\n",
    "    xtype = f'type: {type(x_inst)}, value: \"{x_inst}\"'\n",
    "    @njit\n",
    "    def impl(x):\n",
    "        print('Testing:', xtype)\n",
    "        def answer(clazz):\n",
    "            return \"yes\" if isinstance(x, clazz) else \"no\"\n",
    "\n",
    "        print(\"Is \", x, \"a string?...\", answer(str))\n",
    "        print(\"Is \", x, \"an int?  ...\", answer(int))\n",
    "        print(\"Is \", x, \"a float? ...\", answer(float))\n",
    "        print(\"Is \", x, \"complex? ...\", answer(complex))\n",
    "        print(\"Is \", x, \"a tuple? ...\", answer(tuple))\n",
    "        print(\"Is \", x, \"a set?   ...\", answer(set))\n",
    "        print(\"Is \", x, \"a list?   ...\", answer(list))\n",
    "        print(\"\")\n",
    "    impl(x_inst)\n",
    "\n",
    "for x in ('a string', # string\n",
    "          1, # int\n",
    "          2.3, # float\n",
    "          4j, # complex\n",
    "          np.zeros(3), # np array\n",
    "          typed.Dict.empty(float64, float64), # typed dict\n",
    "          (1, 2, 3), # tuple\n",
    "          {4, 5, 6}, # set\n",
    "          [7, 8, 9] # list\n",
    "         ):\n",
    "    demo_isinstance(x)\n"
   ]
  },
  {
   "cell_type": "markdown",
   "metadata": {},
   "source": [
    "The `isinstance` implementation also works with a subset of Numba types, for example:"
   ]
  },
  {
   "cell_type": "code",
   "execution_count": null,
   "metadata": {},
   "outputs": [],
   "source": [
    "from numba import float64, intp\n",
    "\n",
    "@njit\n",
    "def demo_isinstance_nb_types(x):\n",
    "    print('Testing value:', x)\n",
    "    def answer(clazz):\n",
    "        return \"yes\" if isinstance(x, clazz) else \"no\"\n",
    "    \n",
    "    print(\"Is \", x, \"a float64 type?...\", answer(float64))\n",
    "    print(\"Is \", x, \"an intp type?  ...\", answer(intp))\n",
    "    print(\"\")\n",
    "\n",
    "for x in (1, # int\n",
    "          2.3, # float\n",
    "         ):\n",
    "    demo_isinstance_nb_types(x)\n"
   ]
  },
  {
   "cell_type": "markdown",
   "metadata": {},
   "source": [
    "## NumPy support enhancements\n",
    "\n",
    "Numba 0.55 contains support for some more NumPy functions:\n",
    "\n",
    "* ``np.broadcast_to`` ([@guilhermeleobas](https://github.com/guilhermeleobas))\n",
    "* ``np.float_power`` ([@guilhermeleobas](https://github.com/guilhermeleobas))\n",
    "* ``np.cbrt`` ([@guilhermeleobas](https://github.com/guilhermeleobas))\n",
    "* ``np.logspace`` ([@guoqiangqi](https://github.com/guoqiangqi))\n",
    "* ``np.take_along_axis`` ([@itamarst](https://github.com/itamarst))\n",
    "* ``np.average`` ([@hadia206](https://github.com/hadia206) and [@slnguyen](https://github.com/slnguyen))\n",
    "\n",
    "and also enhances the support for:\n",
    "\n",
    "* ``np.argmin`` gains support for the ``axis`` kwarg ([@itamarst](https://github.com/itamarst)).\n",
    "* ``np.ndarray.astype`` gains support for types expressed as literal strings ([@njriasan](https://github.com/njriasan)).\n",
    "* `__setitem__` and `__getitem__` works for arrays in structured dtypes ([@luk-f-a](https://github.com/luk-f-a) and [@gmarkall](https://github.com/gmarkall))."
   ]
  },
  {
   "cell_type": "code",
   "execution_count": null,
   "metadata": {},
   "outputs": [],
   "source": [
    "a = np.arange(24).reshape((3, 1, 4, 2))\n",
    "ai = np.argsort(a)\n",
    "\n",
    "@njit\n",
    "def demo_numpy_new_features():\n",
    "    print(\"np.broadcast_to\\n\", np.broadcast_to(np.arange(3), (2, 3)),)\n",
    "    print(\"np.float_power\\n\", np.float_power(np.arange(5), np.arange(5)))\n",
    "    print(\"np.cbrt\\n\", np.cbrt(np.arange(0, 28, 3)))\n",
    "    print(\"np.logspace\\n\", np.logspace(0, 10, 4))\n",
    "    print(\"np.take_along_axis\\n\", np.take_along_axis(a, ai, axis=1))\n",
    "    print(\"np.average\\n\", np.average(np.arange(10.)))\n",
    "\n",
    "demo_numpy_new_features()"
   ]
  },
  {
   "cell_type": "markdown",
   "metadata": {},
   "source": [
    "Enhancements:"
   ]
  },
  {
   "cell_type": "code",
   "execution_count": null,
   "metadata": {},
   "outputs": [],
   "source": [
    "# define a structured dtype for use in the demo\n",
    "rec_ty = np.dtype([('i', np.int32), ('j', np.float32, (3, 2))])\n",
    "\n",
    "@njit\n",
    "def demo_numpy_enhancements():\n",
    "    # Axis support in np.argmin\n",
    "    x = np.arange(12).reshape((3, 2, 2))\n",
    "    x[:, 1, :] = -10\n",
    "    print(\"np.argmin(x, axis=2)\\n\", np.argmin(x, axis=2))\n",
    "    \n",
    "    # Literal string types in np.ndarray.astype\n",
    "    x = np.arange(10)\n",
    "    print(\"np.ndarray.astype('float64')\\n\", x.astype('float64'))\n",
    "    print(\"np.ndarray.astype('complex64')\\n\", x.astype('complex64'))\n",
    "\n",
    "    # Assigning to a record array\n",
    "    arr = np.zeros(1, dtype=rec_ty)\n",
    "    rec = arr[0]\n",
    "    rec['j'][:, :] = np.ones((3, 2))\n",
    "    print(\"Array assignment with a structured dtype\\n\", arr)\n",
    "    \n",
    "    \n",
    "demo_numpy_enhancements()"
   ]
  },
  {
   "cell_type": "markdown",
   "metadata": {},
   "source": [
    "----\n",
    "\n",
    "## See Also\n",
    "\n",
    "- [0.55 CUDA Demo](https://mybinder.org/v2/gh/numba/numba-examples/master?filepath=notebooks%2FNumba_055_CUDA_Release_Demo.ipynb)\n",
    "- [0.55 debug enhancements demo](TODO)"
   ]
  }
 ],
 "metadata": {
  "kernelspec": {
   "display_name": "Python 3 (ipykernel)",
   "language": "python",
   "name": "python3"
  },
  "language_info": {
   "codemirror_mode": {
    "name": "ipython",
    "version": 3
   },
   "file_extension": ".py",
   "mimetype": "text/x-python",
   "name": "python",
   "nbconvert_exporter": "python",
   "pygments_lexer": "ipython3",
   "version": "3.9.5"
  }
 },
 "nbformat": 4,
 "nbformat_minor": 4
}
